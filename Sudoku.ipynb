{
  "nbformat": 4,
  "nbformat_minor": 0,
  "metadata": {
    "colab": {
      "name": "Sudoku.ipynb",
      "provenance": [],
      "collapsed_sections": [],
      "authorship_tag": "ABX9TyMA+95E5Qgem9bJevCGRXLs",
      "include_colab_link": true
    },
    "kernelspec": {
      "name": "python3",
      "display_name": "Python 3"
    }
  },
  "cells": [
    {
      "cell_type": "markdown",
      "metadata": {
        "id": "view-in-github",
        "colab_type": "text"
      },
      "source": [
        "<a href=\"https://colab.research.google.com/github/Simreeta/Sudoku/blob/main/Sudoku.ipynb\" target=\"_parent\"><img src=\"https://colab.research.google.com/assets/colab-badge.svg\" alt=\"Open In Colab\"/></a>"
      ]
    },
    {
      "cell_type": "code",
      "metadata": {
        "colab": {
          "base_uri": "https://localhost:8080/"
        },
        "id": "0Z-Z41nK1QaX",
        "outputId": "7006a7ad-78c4-4996-b647-2ab674d1efb5"
      },
      "source": [
        "N = 9\r\n",
        " \r\n",
        "def printing(arr):\r\n",
        "    for i in range(N):\r\n",
        "        for j in range(N):\r\n",
        "            print(arr[i][j], end = \" \")\r\n",
        "        print()\r\n",
        "def isSafe(grid, row, col, num):\r\n",
        "    for x in range(9):\r\n",
        "        if grid[row][x] == num:\r\n",
        "            return False\r\n",
        "    for x in range(9):\r\n",
        "        if grid[x][col] == num:\r\n",
        "            return False\r\n",
        "    startRow = row - row % 3\r\n",
        "    startCol = col - col % 3\r\n",
        "    for i in range(3):\r\n",
        "        for j in range(3):\r\n",
        "            if grid[i + startRow][j + startCol] == num:\r\n",
        "                return False\r\n",
        "    return True\r\n",
        " \r\n",
        "def solveSuduko(grid, row, col):\r\n",
        "   \r\n",
        "    if (row == N - 1 and col == N):\r\n",
        "        return True\r\n",
        "       \r\n",
        "    if col == N:\r\n",
        "        row += 1\r\n",
        "        col = 0\r\n",
        " \r\n",
        "    if grid[row][col] > 0:\r\n",
        "        return solveSuduko(grid, row, col + 1)\r\n",
        "    for num in range(1, N + 1, 1):\r\n",
        "        if isSafe(grid, row, col, num):\r\n",
        "           \r\n",
        "            grid[row][col] = num\r\n",
        "            if solveSuduko(grid, row, col + 1):\r\n",
        "                return True\r\n",
        "        grid[row][col] = 0\r\n",
        "    return False\r\n",
        "grid = [[3, 0, 6, 5, 0, 8, 4, 0, 0],\r\n",
        "        [5, 2, 0, 0, 0, 0, 0, 0, 0],\r\n",
        "        [0, 8, 7, 0, 0, 0, 0, 3, 1],\r\n",
        "        [0, 0, 3, 0, 1, 0, 0, 8, 0],\r\n",
        "        [9, 0, 0, 8, 6, 3, 0, 0, 5],\r\n",
        "        [0, 5, 0, 0, 9, 0, 6, 0, 0],\r\n",
        "        [1, 3, 0, 0, 0, 0, 2, 5, 0],\r\n",
        "        [0, 0, 0, 0, 0, 0, 0, 7, 4],\r\n",
        "        [0, 0, 5, 2, 0, 6, 3, 0, 0]]\r\n",
        " \r\n",
        "if (solveSuduko(grid, 0, 0)):\r\n",
        "    printing(grid)\r\n",
        "else:\r\n",
        "    print(\"no solution  exists \")"
      ],
      "execution_count": null,
      "outputs": [
        {
          "output_type": "stream",
          "text": [
            "3 1 6 5 7 8 4 9 2 \n",
            "5 2 9 1 3 4 7 6 8 \n",
            "4 8 7 6 2 9 5 3 1 \n",
            "2 6 3 4 1 5 9 8 7 \n",
            "9 7 4 8 6 3 1 2 5 \n",
            "8 5 1 7 9 2 6 4 3 \n",
            "1 3 8 9 4 7 2 5 6 \n",
            "6 9 2 3 5 1 8 7 4 \n",
            "7 4 5 2 8 6 3 1 9 \n"
          ],
          "name": "stdout"
        }
      ]
    }
  ]
}